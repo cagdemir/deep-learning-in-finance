{
 "cells": [
  {
   "cell_type": "markdown",
   "metadata": {},
   "source": []
  },
  {
   "cell_type": "markdown",
   "metadata": {},
   "source": [
    "The term artificial intelligence was coined in 1955 by John McCarthy, a math professor at Dartmouth who organized the seminal conference on the topic the following year."
   ]
  },
  {
   "cell_type": "code",
   "execution_count": null,
   "metadata": {},
   "outputs": [],
   "source": []
  },
  {
   "cell_type": "markdown",
   "metadata": {},
   "source": [
    "The most important thing to understand about ML is that it represents a fundamentally different approach to creating software: The machine learns from examples, rather than being explicitly programmed for a particular outcome. This is an important break from previous practice. For most of the past 50 years, advances in information technology and its applications have focused on codifying existing knowledge and procedures and embedding them in machines. Indeed, the term “coding” denotes the painstaking process of transferring knowledge from developers’ heads into a form that machines can understand and execute. This approach has a fundamental weakness: Much of the knowledge we all have is tacit, meaning that we can’t fully explain it. It’s nearly impossible for us to write down instructions that would enable another person to learn how to ride a bike or to recognize a friend’s face."
   ]
  },
  {
   "cell_type": "markdown",
   "metadata": {},
   "source": [
    "We are now on the cusp of a new breed of financial models that incorporate signals from unstructured data, and create better and scalable risk measures to support business decisions. This is prompted by continued advancements in computing power, statistical learning methodologies and natural language processing, all of which have accelerated large-scale data analysis, and enabled the availability of rich alternative content sets based on unstructured data."
   ]
  },
  {
   "cell_type": "markdown",
   "metadata": {},
   "source": [
    "Statistical learning is a framework in which data is used to determine the functional form of a predictive relationship. The functional forms range from familiar regression choices to decision trees, tree ensembles, neural networks, and other techniques."
   ]
  },
  {
   "cell_type": "markdown",
   "metadata": {},
   "source": [
    "Machine learning and deep learning models are currently being used to replace, enhance, or act as a challenger to existing models for regression and classification tasks. These new models are superior to traditional approaches in multiple ways:\n",
    "\n",
    "1. They extract more out of standard data sources such as firm financials, for instance, by uncovering nonlinear relationships effectively\n",
    "2. They make use of more and varied data, such as unstructured text data found in news and social media\n",
    "3. They can incorporate data that is updated in real time, allowing analysis to be much more timely, and avoiding stale signals\n"
   ]
  },
  {
   "cell_type": "markdown",
   "metadata": {},
   "source": [
    "\n",
    "Machine Learning in Your Projects\n",
    "\n",
    "\n",
    "\n",
    "your company has tons of data (user logs, financial data, production data,\n",
    "machine sensor data, hotline stats, HR reports, etc.), and more than likely you could\n",
    "unearth some hidden gems if you just knew where to look; for example:\n",
    "• Segment customers and find the best marketing strategy for each group\n",
    "• Recommend products for each client based on what similar clients bought\n",
    "• Detect which transactions are likely to be fraudulent\n",
    "• Forecast next year’s revenue\n",
    "• And more\n",
    "Whatever the reason, you have decided to learn Machine Learning and implement it\n",
    "in your projects. Great idea!\n"
   ]
  },
  {
   "cell_type": "markdown",
   "metadata": {},
   "source": [
    "image okuyor, lenet [insert here]"
   ]
  },
  {
   "cell_type": "markdown",
   "metadata": {},
   "source": [
    "What is Machine Learning? What problems does it try to solve? What are the\n",
    "main categories and fundamental concepts of Machine Learning systems?\n",
    "• The main steps in a typical Machine Learning project.\n",
    "• Learning by fitting a model to data.\n",
    "• Optimizing a cost function.\n",
    "• Handling, cleaning, and preparing data.\n",
    "• Selecting and engineering features.\n",
    "• Selecting a model and tuning hyperparameters using cross-validation.\n",
    "• The main challenges of Machine Learning, in particular underfitting and overfit‐\n",
    "ting (the bias/variance tradeoff).\n",
    "• Reducing the dimensionality of the training data to fight the curse of dimension‐\n",
    "ality.\n",
    "• Other unsupervised learning techniques, including clustering, density estimation\n",
    "and anomaly detection.\n",
    "\n",
    " The most common learning algorithms: neural networks!\n",
    " \n",
    " • What are neural nets? What are they good for?\n",
    "• Building and training neural nets using TensorFlow and Keras.\n",
    "• The most important neural net architectures: feedforward neural nets, convolu‐\n",
    "tional nets, recurrent nets, long short-term memory (LSTM) nets, autoencoders\n",
    "and generative adversarial networks (GANs).\n",
    "• Techniques for training deep neural nets.\n",
    "• Scaling neural networks for large datasets.\n",
    "\n",
    "\n"
   ]
  },
  {
   "cell_type": "code",
   "execution_count": null,
   "metadata": {},
   "outputs": [],
   "source": []
  },
  {
   "cell_type": "code",
   "execution_count": null,
   "metadata": {},
   "outputs": [],
   "source": []
  },
  {
   "cell_type": "code",
   "execution_count": null,
   "metadata": {},
   "outputs": [],
   "source": []
  },
  {
   "cell_type": "markdown",
   "metadata": {},
   "source": [
    "nlp visual [insert here]"
   ]
  },
  {
   "cell_type": "markdown",
   "metadata": {},
   "source": [
    "financial data distinctively different, cats does not moprhe into dogs!"
   ]
  },
  {
   "cell_type": "markdown",
   "metadata": {},
   "source": [
    "what is financial data?"
   ]
  },
  {
   "cell_type": "markdown",
   "metadata": {},
   "source": [
    "how financial data is different"
   ]
  },
  {
   "cell_type": "markdown",
   "metadata": {},
   "source": [
    "visualization "
   ]
  },
  {
   "cell_type": "markdown",
   "metadata": {},
   "source": [
    "graphs of financial data examples"
   ]
  },
  {
   "cell_type": "code",
   "execution_count": null,
   "metadata": {},
   "outputs": [],
   "source": []
  },
  {
   "cell_type": "code",
   "execution_count": null,
   "metadata": {},
   "outputs": [],
   "source": []
  }
 ],
 "metadata": {
  "kernelspec": {
   "display_name": "Python 3",
   "language": "python",
   "name": "python3"
  },
  "language_info": {
   "codemirror_mode": {
    "name": "ipython",
    "version": 3
   },
   "file_extension": ".py",
   "mimetype": "text/x-python",
   "name": "python",
   "nbconvert_exporter": "python",
   "pygments_lexer": "ipython3",
   "version": "3.6.7"
  }
 },
 "nbformat": 4,
 "nbformat_minor": 2
}
